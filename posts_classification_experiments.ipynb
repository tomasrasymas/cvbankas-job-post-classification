{
 "cells": [
  {
   "cell_type": "markdown",
   "metadata": {},
   "source": [
    "Importing modules"
   ]
  },
  {
   "cell_type": "code",
   "execution_count": 5,
   "metadata": {
    "collapsed": false
   },
   "outputs": [],
   "source": [
    "import os\n",
    "import json\n",
    "\n",
    "from sklearn.model_selection import train_test_split\n",
    "from sklearn.feature_extraction.text import CountVectorizer\n",
    "from sklearn.feature_extraction.text import TfidfTransformer\n",
    "from sklearn.pipeline import Pipeline\n",
    "from sklearn.model_selection import GridSearchCV\n",
    "from sklearn.naive_bayes import MultinomialNB\n",
    "from sklearn.ensemble import RandomForestClassifier\n",
    "from sklearn.tree import DecisionTreeClassifier\n",
    "from sklearn.neighbors import KNeighborsClassifier\n",
    "from sklearn import metrics"
   ]
  },
  {
   "cell_type": "markdown",
   "metadata": {},
   "source": [
    "Loading data"
   ]
  },
  {
   "cell_type": "code",
   "execution_count": 6,
   "metadata": {
    "collapsed": false
   },
   "outputs": [],
   "source": [
    "posts_data_path = os.path.join(\"data\", \"cleaned_posts.json\")\n",
    "\n",
    "train = []\n",
    "test = []\n",
    "\n",
    "with open(posts_data_path) as file_obj:\n",
    "    data = json.load(file_obj)\n",
    "    \n",
    "    train, test = zip(*data)"
   ]
  },
  {
   "cell_type": "markdown",
   "metadata": {},
   "source": [
    "Splitting data into train and test sets"
   ]
  },
  {
   "cell_type": "code",
   "execution_count": 7,
   "metadata": {
    "collapsed": false
   },
   "outputs": [
    {
     "name": "stdout",
     "output_type": "stream",
     "text": [
      "3193 1369\n",
      "3193 1369\n"
     ]
    }
   ],
   "source": [
    "x_train, x_test, y_train, y_test = train_test_split(train, test, test_size=0.3)\n",
    "\n",
    "print(len(x_train), len(x_test))\n",
    "print(len(y_train), len(y_test))"
   ]
  },
  {
   "cell_type": "markdown",
   "metadata": {},
   "source": [
    "Naive bayes"
   ]
  },
  {
   "cell_type": "code",
   "execution_count": 8,
   "metadata": {
    "collapsed": false
   },
   "outputs": [
    {
     "name": "stdout",
     "output_type": "stream",
     "text": [
      "0.6876370013152127\n",
      "{'clf__alpha': 0.01, 'tfidf__use_idf': True, 'vect__ngram_range': (1, 1)}\n"
     ]
    }
   ],
   "source": [
    "pipe = Pipeline([(\"vect\", CountVectorizer(ngram_range=(1, 2))),\n",
    "                 (\"tfidf\", TfidfTransformer()),\n",
    "                 (\"clf\", MultinomialNB())])\n",
    "\n",
    "parameters = {\"vect__ngram_range\": [(1, 1), (1, 2)],\n",
    "              \"tfidf__use_idf\": (True, False),\n",
    "              \"clf__alpha\": (1e-2, 1e-3)}\n",
    "\n",
    "grid = GridSearchCV(pipe, cv=3, n_jobs=1, param_grid=parameters)\n",
    "grid.fit(train, test)\n",
    "\n",
    "print(grid.best_score_)\n",
    "print(grid.best_params_)"
   ]
  },
  {
   "cell_type": "markdown",
   "metadata": {},
   "source": [
    "Ranfom forest"
   ]
  },
  {
   "cell_type": "code",
   "execution_count": 9,
   "metadata": {
    "collapsed": false
   },
   "outputs": [
    {
     "name": "stdout",
     "output_type": "stream",
     "text": [
      "0.674923279263481\n",
      "{'clf__n_estimators': 50, 'tfidf__use_idf': True, 'vect__ngram_range': (1, 1)}\n"
     ]
    }
   ],
   "source": [
    "pipe = Pipeline([(\"vect\", CountVectorizer()),\n",
    "                 (\"tfidf\", TfidfTransformer()),\n",
    "                 (\"clf\", RandomForestClassifier())])\n",
    "\n",
    "parameters = {\"vect__ngram_range\": [(1, 1), (1, 2)],\n",
    "              \"tfidf__use_idf\": (True, False),\n",
    "              \"clf__n_estimators\": (5, 10, 20, 50)}\n",
    "\n",
    "grid = GridSearchCV(pipe, cv=3, n_jobs=1, param_grid=parameters)\n",
    "grid.fit(train, test)\n",
    "\n",
    "print(grid.best_score_)\n",
    "print(grid.best_params_)"
   ]
  },
  {
   "cell_type": "markdown",
   "metadata": {},
   "source": [
    "Decision tree"
   ]
  },
  {
   "cell_type": "code",
   "execution_count": 10,
   "metadata": {
    "collapsed": false
   },
   "outputs": [
    {
     "name": "stdout",
     "output_type": "stream",
     "text": [
      "0.5640070144673389\n",
      "{'tfidf__use_idf': True, 'vect__ngram_range': (1, 1)}\n"
     ]
    }
   ],
   "source": [
    "pipe = Pipeline([(\"vect\", CountVectorizer()),\n",
    "                 (\"tfidf\", TfidfTransformer()),\n",
    "                 (\"clf\", DecisionTreeClassifier())])\n",
    "\n",
    "parameters = {\"vect__ngram_range\": [(1, 1), (1, 2)],\n",
    "              \"tfidf__use_idf\": (True, False)}\n",
    "\n",
    "grid = GridSearchCV(pipe, cv=3, n_jobs=1, param_grid=parameters)\n",
    "grid.fit(train, test)\n",
    "\n",
    "print(grid.best_score_)\n",
    "print(grid.best_params_)"
   ]
  },
  {
   "cell_type": "markdown",
   "metadata": {},
   "source": [
    "Nearest neighbors"
   ]
  },
  {
   "cell_type": "code",
   "execution_count": 11,
   "metadata": {
    "collapsed": false
   },
   "outputs": [
    {
     "name": "stdout",
     "output_type": "stream",
     "text": [
      "0.6874177992108724\n",
      "{'clf__n_neighbors': 21, 'tfidf__use_idf': True, 'vect__ngram_range': (1, 1)}\n"
     ]
    }
   ],
   "source": [
    "pipe = Pipeline([(\"vect\", CountVectorizer()),\n",
    "                 (\"tfidf\", TfidfTransformer()),\n",
    "                 (\"clf\", KNeighborsClassifier())])\n",
    "\n",
    "parameters = {\"vect__ngram_range\": [(1, 1), (1, 2)],\n",
    "              \"tfidf__use_idf\": (True, False),\n",
    "              \"clf__n_neighbors\": (1, 3, 5, 11, 15, 21, 25, 31)}\n",
    "\n",
    "grid = GridSearchCV(pipe, cv=3, n_jobs=1, param_grid=parameters)\n",
    "grid.fit(train, test)\n",
    "\n",
    "print(grid.best_score_)\n",
    "print(grid.best_params_)"
   ]
  },
  {
   "cell_type": "markdown",
   "metadata": {},
   "source": [
    "Train classifier"
   ]
  },
  {
   "cell_type": "code",
   "execution_count": 13,
   "metadata": {
    "collapsed": false
   },
   "outputs": [],
   "source": [
    "pipe = Pipeline([(\"vect\", CountVectorizer(ngram_range=(1, 1))),\n",
    "                 (\"tfidf\", TfidfTransformer(use_idf=True)),\n",
    "                 (\"clf\", KNeighborsClassifier(n_neighbors=21))])\n",
    "\n",
    "clf = pipe.fit(x_train, y_train)"
   ]
  },
  {
   "cell_type": "markdown",
   "metadata": {},
   "source": [
    "Test classifier"
   ]
  },
  {
   "cell_type": "code",
   "execution_count": 17,
   "metadata": {
    "collapsed": false
   },
   "outputs": [
    {
     "name": "stdout",
     "output_type": "stream",
     "text": [
      "0.7027027027027027\n",
      "                                      precision    recall  f1-score   support\n",
      "\n",
      "     Administravimas/sekretoriavimas       0.70      0.46      0.56        41\n",
      "                             Apsauga       1.00      0.70      0.82        10\n",
      "           Apskaita/finansai/auditas       0.81      0.83      0.82        69\n",
      "               Dizainas/architektūra       0.50      0.23      0.32        13\n",
      "                           Draudimas       0.67      0.83      0.74        12\n",
      "                           Eksportas       0.00      0.00      0.00         4\n",
      "              Energetika/elektronika       0.50      0.47      0.49        40\n",
      "          Informacinės technologijos       0.64      0.91      0.75        87\n",
      "                Inžinerija/mechanika       0.69      0.54      0.61       104\n",
      "      Klientų aptarnavimas/paslaugos       0.69      0.48      0.56       147\n",
      "                       Maisto gamyba       0.79      0.62      0.70        48\n",
      "                 Marketingas/reklama       0.71      0.31      0.43        16\n",
      "Medicina/sveikatos apsauga/farmacija       0.86      0.43      0.57        14\n",
      "               Nekilnojamasis turtas       0.80      0.67      0.73         6\n",
      "                    Pardavimų vadyba       0.58      0.88      0.70       139\n",
      "                  Personalo valdymas       0.89      0.53      0.67        15\n",
      "                   Pirkimai/tiekimas       0.64      0.58      0.61        12\n",
      "                      Pramonė/gamyba       0.75      0.78      0.77       146\n",
      "             Prekyba - konsultavimas       0.73      0.90      0.81       134\n",
      "                       Sandėliavimas       0.82      0.82      0.82        60\n",
      "                             Statyba       0.67      0.77      0.72        73\n",
      "                               Teisė       1.00      0.25      0.40         4\n",
      "               Transporto vairavimas       0.90      0.93      0.92        29\n",
      "        Transporto/logistikos vadyba       0.76      0.75      0.75        59\n",
      "                Vadovavimas/valdymas       0.53      0.27      0.36        37\n",
      "                   Valstybės tarnyba       0.94      0.94      0.94        36\n",
      "           Švietimas/mokymai/kultūra       1.00      0.43      0.60         7\n",
      "             Žemės ūkis/žuvininkystė       1.00      0.14      0.25         7\n",
      "        Žiniasklaida/viešieji ryšiai       0.00      0.00      0.00         0\n",
      "\n",
      "                         avg / total       0.71      0.70      0.69      1369\n",
      "\n",
      "[[ 19   0   2   0   0   0   0   3   0   4   0   0   0   1   3   0   2   1\n",
      "    4   1   0   0   0   0   1   0   0   0   0]\n",
      " [  0   7   0   0   0   0   0   0   0   2   0   0   0   0   0   0   0   0\n",
      "    0   0   1   0   0   0   0   0   0   0   0]\n",
      " [  0   0  57   0   0   0   1   5   0   2   0   0   1   0   2   0   0   0\n",
      "    0   0   0   0   0   1   0   0   0   0   0]\n",
      " [  0   0   0   3   0   0   0   2   2   0   0   2   0   0   2   0   0   2\n",
      "    0   0   0   0   0   0   0   0   0   0   0]\n",
      " [  0   0   0   0  10   0   0   2   0   0   0   0   0   0   0   0   0   0\n",
      "    0   0   0   0   0   0   0   0   0   0   0]\n",
      " [  0   0   0   0   0   0   0   0   0   1   0   0   0   0   2   0   0   0\n",
      "    1   0   0   0   0   0   0   0   0   0   0]\n",
      " [  0   0   1   0   0   0  19   1   1   1   0   0   0   0   3   0   0   3\n",
      "    0   0  10   0   0   1   0   0   0   0   0]\n",
      " [  0   0   0   0   0   0   0  79   1   2   0   0   0   0   3   0   0   0\n",
      "    0   0   0   0   0   0   2   0   0   0   0]\n",
      " [  0   0   0   2   0   0  13   5  56   1   0   0   0   0   7   0   1   6\n",
      "    0   0   9   0   1   3   0   0   0   0   0]\n",
      " [  5   0   1   0   3   0   2   4   6  70   6   0   0   0  28   0   0   3\n",
      "   14   0   0   0   0   4   1   0   0   0   0]\n",
      " [  0   0   0   0   0   0   0   2   0   2  30   0   0   0   0   0   0   8\n",
      "    5   1   0   0   0   0   0   0   0   0   0]\n",
      " [  0   0   1   1   0   0   0   2   0   0   0   5   0   0   1   0   0   1\n",
      "    2   0   0   0   0   0   2   0   0   0   1]\n",
      " [  1   0   2   0   0   0   0   0   0   0   0   0   6   0   1   0   0   0\n",
      "    3   0   0   0   0   1   0   0   0   0   0]\n",
      " [  0   0   0   0   0   0   0   0   0   0   0   0   0   4   2   0   0   0\n",
      "    0   0   0   0   0   0   0   0   0   0   0]\n",
      " [  1   0   0   0   1   1   0   5   0   3   0   0   0   0 122   1   0   0\n",
      "    1   1   0   0   0   2   1   0   0   0   0]\n",
      " [  0   0   0   0   0   0   0   2   1   0   0   0   0   0   1   8   0   0\n",
      "    0   0   1   0   0   2   0   0   0   0   0]\n",
      " [  0   0   1   0   0   0   0   0   1   0   0   0   0   0   3   0   7   0\n",
      "    0   0   0   0   0   0   0   0   0   0   0]\n",
      " [  1   0   0   0   0   0   1   1   8   1   2   0   0   0   3   0   0 114\n",
      "    6   5   3   0   1   0   0   0   0   0   0]\n",
      " [  0   0   0   0   0   0   0   0   0   2   0   0   0   0   7   0   0   0\n",
      "  121   2   0   0   0   0   2   0   0   0   0]\n",
      " [  0   0   1   0   0   0   1   0   0   1   0   0   0   0   0   0   0   5\n",
      "    3  49   0   0   0   0   0   0   0   0   0]\n",
      " [  0   0   0   0   0   0   1   4   3   1   0   0   0   0   3   0   0   4\n",
      "    1   0  56   0   0   0   0   0   0   0   0]\n",
      " [  0   0   1   0   0   0   0   0   0   0   0   0   0   0   0   0   0   0\n",
      "    0   0   0   1   0   0   0   2   0   0   0]\n",
      " [  0   0   0   0   0   0   0   0   0   1   0   0   0   0   0   0   0   0\n",
      "    1   0   0   0  27   0   0   0   0   0   0]\n",
      " [  0   0   2   0   0   0   0   4   0   0   0   0   0   0   7   0   1   0\n",
      "    0   0   0   0   1  44   0   0   0   0   0]\n",
      " [  0   0   1   0   1   0   0   0   1   7   0   0   0   0   9   0   0   2\n",
      "    3   1   2   0   0   0  10   0   0   0   0]\n",
      " [  0   0   0   0   0   0   0   0   0   1   0   0   0   0   0   0   0   0\n",
      "    0   0   1   0   0   0   0  34   0   0   0]\n",
      " [  0   0   0   0   0   0   0   2   0   0   0   0   0   0   1   0   0   1\n",
      "    0   0   0   0   0   0   0   0   3   0   0]\n",
      " [  0   0   0   0   0   0   0   1   1   0   0   0   0   0   2   0   0   2\n",
      "    0   0   0   0   0   0   0   0   0   1   0]\n",
      " [  0   0   0   0   0   0   0   0   0   0   0   0   0   0   0   0   0   0\n",
      "    0   0   0   0   0   0   0   0   0   0   0]]\n"
     ]
    },
    {
     "name": "stderr",
     "output_type": "stream",
     "text": [
      "/Users/tomras/virtualenv/cvbankas_scraper/lib/python3.6/site-packages/sklearn/metrics/classification.py:1137: UndefinedMetricWarning: Recall and F-score are ill-defined and being set to 0.0 in labels with no true samples.\n",
      "  'recall', 'true', average, warn_for)\n"
     ]
    }
   ],
   "source": [
    "predicted = clf.predict(x_test)\n",
    "\n",
    "print(metrics.accuracy_score(y_test, predicted))\n",
    "print(metrics.classification_report(y_test, predicted))\n",
    "print(metrics.confusion_matrix(y_test, predicted))"
   ]
  },
  {
   "cell_type": "code",
   "execution_count": null,
   "metadata": {
    "collapsed": true
   },
   "outputs": [],
   "source": []
  }
 ],
 "metadata": {
  "kernelspec": {
   "display_name": "Python 3.6.3 cvbanks",
   "language": "python",
   "name": "cvbankas_scraper"
  },
  "language_info": {
   "codemirror_mode": {
    "name": "ipython",
    "version": 3
   },
   "file_extension": ".py",
   "mimetype": "text/x-python",
   "name": "python",
   "nbconvert_exporter": "python",
   "pygments_lexer": "ipython3",
   "version": "3.6.3"
  }
 },
 "nbformat": 4,
 "nbformat_minor": 2
}
